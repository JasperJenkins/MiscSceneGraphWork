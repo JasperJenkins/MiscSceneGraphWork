{
 "cells": [
  {
   "cell_type": "markdown",
   "metadata": {},
   "source": [
    "## Relevant(?) Papers\n",
    "\n",
    "- ### [Identifying Spatial Relations in Images using CNNs](https://arxiv.org/pdf/1706.04215.pdf)\n",
    "    - Single relationship detection\n",
    "    - Image -> VGG-Net features -> MLP -> tensor of probabilities of shape num_objs X num_objs X num_relationships\n",
    "    - Custom sun09 dataset + synthetic dataset\n",
    "\n",
    "- ### [Graphr: Scene Graph Generation using Reinforcement Learning](https://drive.google.com/file/d/10y1mYCvm7Q6Y4HLyBAmX2neYFcGwUl9x/view)\n",
    "    - Graph with attributes detection\n",
    "    - Image -> R-CNN object proposals -> DQN stuff\n",
    "    - Visual Genome dataset\n",
    "    - [Github](https://github.com/nexusapoorvacus/DeepVariationStructuredRL)\n",
    "\n",
    "- ### [Detecting Visual Relationships with Deep Relational Networks](https://arxiv.org/pdf/1704.03114.pdf)\n",
    "    - (subject, relationship, object)\n",
    "    - Some stuff on modeling of conditional probabilities\n",
    "    - Visual Genome dataset\n",
    "    - [Github](https://github.com/doubledaibo/drnet_cvpr2017)\n",
    "    \n",
    "- ### [Scene Graph Generation by Iterative Message Passing](https://arxiv.org/pdf/1701.02426.pdf)\n",
    "    - Object Proposals -> Iterative Primal Dual Graph processed by GRU-RNN\n",
    "    - Visual Genome dataset\n",
    "    - [Github](https://github.com/danfeiX/scene-graph-TF-release)\n",
    "\n",
    "- ### [Graph R-CNN for Scene Graph Generation](https://arxiv.org/pdf/1808.00191.pdf)\n",
    "\n",
    "- ### [Natural Language Guided Visual Relationship Detection](https://arxiv.org/pdf/1711.06032.pdf)\n",
    "\n",
    "- ### [Visual Relationship Detection with Language Priors](https://arxiv.org/pdf/1608.00187.pdf)\n",
    "\n",
    "- ### [Visual Relationship Detection with Internal and External Linguistic Knowledge Distillation](https://arxiv.org/pdf/1707.09423.pdf)\n",
    "\n",
    "- ### [Vip-cnn: Visual Phrase Guided CNN](https://arxiv.org/pdf/1702.07191.pdf)\n",
    "\n",
    "- ### [Scene Graph Generation from Objects, Phrases and Region Captions](https://arxiv.org/pdf/1707.09700.pdf)\n",
    "\n",
    "- ### [Factorizable Net: An Efficient Subgraph-based Framework for Scene Graph Generation](https://arxiv.org/pdf/1806.11538.pdf)\n",
    "\n",
    "- ### [Visual Genome](https://visualgenome.org/static/paper/Visual_Genome.pdf)\n",
    "\n",
    "- ### [Image Retrieval using Scene Graphs](https://cs.stanford.edu/people/jcjohns/papers/cvpr2015/JohnsonCVPR2015.pdf)\n",
    "\n",
    "- ### [Deep Variation-structured Reinforcement Learning for Visual Relationship and Attribute Detection](https://arxiv.org/pdf/1703.03054.pdf)\n",
    "\n",
    "- ### [Neural Motifs: Scene Graph Parsing with Global Context](https://arxiv.org/pdf/1711.06640.pdf)\n",
    "\n",
    "- ### [Generating Triples with Adversarial Networks for Scene Graph Construction](https://arxiv.org/pdf/1802.02598.pdf)\n",
    "\n",
    "- ### [Pixels to Graphs by Associative Embedding](https://arxiv.org/pdf/1706.07365.pdf)\n",
    "\n",
    "- ### [DenseCap: Fully Convolutional Localization Networks for Dense Captioning](https://arxiv.org/pdf/1511.07571.pdf)\n",
    "\n",
    "- ### [Visually Guided Spatial Relation Extraction from Text](http://aclweb.org/anthology/N18-2124)\n",
    "\n",
    "- ### [Encoding Spatial Relations from Natural Language](https://arxiv.org/pdf/1807.01670.pdf)\n",
    "\n",
    "- ### [Recognition Using Visual Phrases](http://vision.cs.uiuc.edu/phrasal/recognition_using_visual_phrases.pdf)\n",
    "\n",
    "- ### [A Thousand Frames in Just a Few Words: Lingual Description of Videos through Latent Topics and Sparse Object Stitching](https://cse.buffalo.edu/~jcorso/pubs/jcorso_CVPR2013_dpmtm.pdf)\n",
    "\n",
    "- ### [Learning Everything about Anything: Webly-Supervised Visual Concept Learning](http://www.istc-cc.cmu.edu/publications/papers/2014/divvala2014lea.pdf)"
   ]
  },
  {
   "cell_type": "markdown",
   "metadata": {},
   "source": [
    "- The reason of using recall instead of precision is that the annotations are incomplete, where some true relationships might be missing."
   ]
  }
 ],
 "metadata": {
  "kernelspec": {
   "display_name": "Python 3",
   "language": "python",
   "name": "python3"
  },
  "language_info": {
   "codemirror_mode": {
    "name": "ipython",
    "version": 3
   },
   "file_extension": ".py",
   "mimetype": "text/x-python",
   "name": "python",
   "nbconvert_exporter": "python",
   "pygments_lexer": "ipython3",
   "version": "3.6.6"
  }
 },
 "nbformat": 4,
 "nbformat_minor": 2
}
